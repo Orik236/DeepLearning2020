{
 "cells": [
  {
   "cell_type": "markdown",
   "metadata": {
    "toc": true
   },
   "source": [
    "<h1>Table of Contents<span class=\"tocSkip\"></span></h1>\n",
    "<div class=\"toc\"><ul class=\"toc-item\"><li><span><a href=\"#Simple-2-layer-Neural-Network-with-Softmax-Function\" data-toc-modified-id=\"Simple-2-layer-Neural-Network-with-Softmax-Function-1\"><span class=\"toc-item-num\">1&nbsp;&nbsp;</span>Simple 2-layer Neural Network with Softmax Function</a></span><ul class=\"toc-item\"><li><ul class=\"toc-item\"><li><span><a href=\"#Softmax-Function\" data-toc-modified-id=\"Softmax-Function-1.0.1\"><span class=\"toc-item-num\">1.0.1&nbsp;&nbsp;</span>Softmax Function</a></span></li><li><span><a href=\"#2-layer-Neural-Network-Model-with-Softmax-Function\" data-toc-modified-id=\"2-layer-Neural-Network-Model-with-Softmax-Function-1.0.2\"><span class=\"toc-item-num\">1.0.2&nbsp;&nbsp;</span>2-layer Neural Network Model with Softmax Function</a></span></li><li><span><a href=\"#Data-Set\" data-toc-modified-id=\"Data-Set-1.0.3\"><span class=\"toc-item-num\">1.0.3&nbsp;&nbsp;</span>Data Set</a></span></li><li><span><a href=\"#Batch-Gradient-Descent-Optimization\" data-toc-modified-id=\"Batch-Gradient-Descent-Optimization-1.0.4\"><span class=\"toc-item-num\">1.0.4&nbsp;&nbsp;</span>Batch Gradient Descent Optimization</a></span></li><li><span><a href=\"#Evaluation:-Loss-display\" data-toc-modified-id=\"Evaluation:-Loss-display-1.0.5\"><span class=\"toc-item-num\">1.0.5&nbsp;&nbsp;</span>Evaluation: Loss display</a></span></li><li><span><a href=\"#Evaluation:-Accuracy-display\" data-toc-modified-id=\"Evaluation:-Accuracy-display-1.0.6\"><span class=\"toc-item-num\">1.0.6&nbsp;&nbsp;</span>Evaluation: Accuracy display</a></span></li></ul></li></ul></li></ul></div>"
   ]
  },
  {
   "cell_type": "markdown",
   "metadata": {},
   "source": [
    "# Simple 2-layer Neural Network with Softmax Function\n",
    "+ Simple 2-layer neural network with softmax function for multi-class classification.\n",
    "+ Classify red ball, green ball or blue ball for a given 2D input data."
   ]
  },
  {
   "cell_type": "code",
   "execution_count": 62,
   "metadata": {
    "ExecuteTime": {
     "end_time": "2020-10-06T08:12:25.470004Z",
     "start_time": "2020-10-06T08:12:25.277664Z"
    }
   },
   "outputs": [],
   "source": [
    "import numpy as np\n",
    "import random\n",
    "import matplotlib.pyplot as plt\n",
    "import matplotlib as mpl\n",
    "import torch\n",
    "import torch.nn as nn\n",
    "\n",
    "eta = 0.03  # learning rate\n",
    "epoch = 1000"
   ]
  },
  {
   "cell_type": "markdown",
   "metadata": {},
   "source": [
    "### Softmax Function\n",
    "+ Softmax function is a function that takes an input as a vector of real numbers, and normalizes it into a probability \n",
    "+ distribution for each element of vector. To each elment of an input vector, the standard exponential function is \n",
    "+ applied, which is nomalized by the sum of  exponential values of all the elements of the vector. \n",
    "+ For softmax function, x - max(x)  is used to avoid overflow of exponent function. "
   ]
  },
  {
   "cell_type": "code",
   "execution_count": 63,
   "metadata": {
    "ExecuteTime": {
     "end_time": "2020-10-05T10:11:33.036564Z",
     "start_time": "2020-10-05T10:11:33.028022Z"
    }
   },
   "outputs": [],
   "source": [
    "def sigmoid(x):\n",
    "    return 1.0/(1+ torch.exp(-x))\n",
    "\n",
    "def sigmoid_deriv(x):\n",
    "    return x * (1.0 - x)\n",
    "\n",
    "def softmax(x):\n",
    "    # softmax   \n",
    "    e = torch.exp(x - torch.max(x)) # x-m is used to avoid overflow of exponent function\n",
    "    return e / torch.sum(e, axis=0) # add in column"
   ]
  },
  {
   "cell_type": "markdown",
   "metadata": {},
   "source": [
    "### 2-layer Neural Network Model with Softmax Function\n",
    "+ Softmax function is used at outputs of layer 2.\n",
    "+ The delta of output layer using softmax function is output - target.\n",
    "+ Total error is also obtained by summing up the individual error and averaging them. \n",
    "+ For more details on the definition of delta function, refer to the class note."
   ]
  },
  {
   "cell_type": "code",
   "execution_count": 64,
   "metadata": {},
   "outputs": [
    {
     "data": {
      "text/plain": [
       "'class neuralnetwork:\\n    # neural network model\\n    \\n    def __init__(self, x, y):\\n        self.inputs   = x.T\\n        self.weights2 = torch.rand(3, 4, requires_grad=True)     # number of output labels is 3\\n        self.weights1 = torch.rand(4, x.shape[1], requires_grad=True)\\n        self.b1 = torch.zeros(4,1, requires_grad=True) # bias at hidden layer \\n        self.b2 = torch.zeros(3,1, requires_grad=True) # bias at output layer \\n        self.target   = y.T       # target\\n\\n    def forwardprop(self):\\n        # forward processing of inputs and weights using sigmoid activation function\\n        self.hiddenout = torch.sigmoid(torch.matmul(self.weights1, self.inputs) + self.b1)\\n        self.output = softmax(torch.matmul(self.weights2, self.hiddenout) + self.b2)\\n\\n    def backprop(self):\\n        # backward processing of appling the chain rule to find derivative of the loss function with respect to weights\\n        loss = self.calculate_error()\\n        loss.backward()\\n\\n        # update the weights with the derivative of the loss function\\n        with torch.no_grad():\\n            self.weights1 -= eta * self.weights1.grad.data / batchsize\\n            self.weights2 -= eta * self.weights2.grad.data / batchsize\\n\\n            # update biases with the derivative of the loss function\\n            self.b2 -= eta * self.b2.grad.data / batchsize # add in row axis, keeping column dimension\\n            self.b1 -= eta * self.b1.grad.data / batchsize # add in row axis, keeping column dimension\\n        \\n        self.weights1.grad.zero_\\n        self.weights2.grad.zero_\\n        self.b2.grad.zero_\\n        self.b1.grad.zero_\\n\\n    def predict(self, x):\\n        # predict the output for a given input x\\n        self.hiddenout = torch.sigmoid(torch.matmul(self.weights1, x) + self.b1)\\n        self.output = softmax(torch.matmul(self.weights2, self.hiddenout) + self.b2)\\n        return (self.output)\\n\\n    def calculate_error(self):               \\n        # calculate error\\n        error = torch.mean(-self.target * torch.log(self.output)) # cross entropy loss function for multi-class classification\\n        return error\\n    \\n    def calculate_accuracy(self):\\n        # calculate accuracy\\n        target_label = torch.argmax(self.target.T, axis = 1)\\n        output_label = torch.argmax(self.output.T, axis = 1)\\n        accuracy = 100 * torch.sum(target_label == output_label) / float(self.target.T.shape[0])\\n        return accuracy'"
      ]
     },
     "execution_count": 64,
     "metadata": {},
     "output_type": "execute_result"
    }
   ],
   "source": [
    "'''class neuralnetwork:\n",
    "    # neural network model\n",
    "    \n",
    "    def __init__(self, x, y):\n",
    "        self.inputs   = x.T\n",
    "        self.weights2 = torch.rand(3, 4, requires_grad=True)     # number of output labels is 3\n",
    "        self.weights1 = torch.rand(4, x.shape[1], requires_grad=True)\n",
    "        self.b1 = torch.zeros(4,1, requires_grad=True) # bias at hidden layer \n",
    "        self.b2 = torch.zeros(3,1, requires_grad=True) # bias at output layer \n",
    "        self.target   = y.T       # target\n",
    "\n",
    "    def forwardprop(self):\n",
    "        # forward processing of inputs and weights using sigmoid activation function\n",
    "        self.hiddenout = torch.sigmoid(torch.matmul(self.weights1, self.inputs) + self.b1)\n",
    "        self.output = softmax(torch.matmul(self.weights2, self.hiddenout) + self.b2)\n",
    "\n",
    "    def backprop(self):\n",
    "        # backward processing of appling the chain rule to find derivative of the loss function with respect to weights\n",
    "        loss = self.calculate_error()\n",
    "        loss.backward()\n",
    "\n",
    "        # update the weights with the derivative of the loss function\n",
    "        with torch.no_grad():\n",
    "            self.weights1 -= eta * self.weights1.grad.data / batchsize\n",
    "            self.weights2 -= eta * self.weights2.grad.data / batchsize\n",
    "\n",
    "            # update biases with the derivative of the loss function\n",
    "            self.b2 -= eta * self.b2.grad.data / batchsize # add in row axis, keeping column dimension\n",
    "            self.b1 -= eta * self.b1.grad.data / batchsize # add in row axis, keeping column dimension\n",
    "        \n",
    "        self.weights1.grad.zero_\n",
    "        self.weights2.grad.zero_\n",
    "        self.b2.grad.zero_\n",
    "        self.b1.grad.zero_\n",
    "\n",
    "    def predict(self, x):\n",
    "        # predict the output for a given input x\n",
    "        self.hiddenout = torch.sigmoid(torch.matmul(self.weights1, x) + self.b1)\n",
    "        self.output = softmax(torch.matmul(self.weights2, self.hiddenout) + self.b2)\n",
    "        return (self.output)\n",
    "\n",
    "    def calculate_error(self):               \n",
    "        # calculate error\n",
    "        error = torch.mean(-self.target * torch.log(self.output)) # cross entropy loss function for multi-class classification\n",
    "        return error\n",
    "    \n",
    "    def calculate_accuracy(self):\n",
    "        # calculate accuracy\n",
    "        target_label = torch.argmax(self.target.T, axis = 1)\n",
    "        output_label = torch.argmax(self.output.T, axis = 1)\n",
    "        accuracy = 100 * torch.sum(target_label == output_label) / float(self.target.T.shape[0])\n",
    "        return accuracy'''"
   ]
  },
  {
   "cell_type": "code",
   "execution_count": 65,
   "metadata": {},
   "outputs": [],
   "source": [
    "class NeuralNetwork(nn.Module):\n",
    "    def __init__(self):\n",
    "        super(NeuralNetwork, self).__init__()\n",
    "        self.out = nn.Sequential(nn.Linear(2, 4),\n",
    "                                 nn.Sigmoid(),\n",
    "                                nn.Linear(4, 3))\n",
    "        \n",
    "    def forward(self, x):\n",
    "        x = self.out(x)\n",
    "        \n",
    "        return x"
   ]
  },
  {
   "cell_type": "code",
   "execution_count": 66,
   "metadata": {},
   "outputs": [],
   "source": [
    "device = torch.device(\"cuda:0\" if torch.cuda.is_available() else \"cpu\")\n",
    "model = NeuralNetwork()\n",
    "model = model.to(device)\n",
    "optim = torch.optim.SGD(model.parameters(), lr=1e-3)\n",
    "criterion = nn.CrossEntropyLoss()"
   ]
  },
  {
   "cell_type": "markdown",
   "metadata": {},
   "source": [
    "### Data Set\n",
    "+ For simplicity, it is assumed that the color of ball can be identified with two features, i.e., x_axis and y_axis values.\n",
    "+ (x, y) values of red, green and blue balls are centered around (0, -3), (3, 3) and (-3, 3), respectively.\n",
    "+ Target values for red, green and blue balls are [1, 0, 0], [0, 1, 0] and [0, 0, 1], respectively.\n",
    "+ Formats of input data and targetvalue are shown below, which are basically lists of row vectors.\n",
    "+ In program, these data are converted to column vectors.\n",
    "+\n",
    "+  input data = \n",
    "+ $\\;\\;\\;\\;$[[0.1,0.3],  # input data item1\n",
    "+ $\\;\\;\\;\\;$[0.5,0.8],  # input data item2\n",
    "+ $\\;\\;\\;\\;$[0.7,0.6],  # input data item3\n",
    "+ $\\;\\;\\;\\;$[0.9,0.2]] # input data item4\n",
    "+   \n",
    "+  target data = \n",
    "+ $\\;\\;\\;\\;$[[0,1,0],  # target1, one-hot vector representation\n",
    "+  $\\;\\;\\;\\;$[1,0,0],  # target2, one-hot vector representation\n",
    "+  $\\;\\;\\;\\;$[0,0,1],  # target3, one-hot vector representation\n",
    "+  $\\;\\;\\;\\;$[1,0,0]]  # target4, one-hot vector representation"
   ]
  },
  {
   "cell_type": "code",
   "execution_count": 67,
   "metadata": {
    "ExecuteTime": {
     "end_time": "2020-10-05T10:28:40.332136Z",
     "start_time": "2020-10-05T10:28:40.160929Z"
    }
   },
   "outputs": [
    {
     "data": {
      "image/png": "[encoded data removed]",
      "text/plain": [
       "<Figure size 432x288 with 1 Axes>"
      ]
     },
     "metadata": {
      "needs_background": "light"
     },
     "output_type": "display_data"
    }
   ],
   "source": [
    "if __name__ == \"__main__\":\n",
    "\n",
    "    # get training data set\n",
    "    samples = 10\n",
    "    attributes = 2\n",
    "    classes = 3\n",
    "    \n",
    "    np.random.seed(45)\n",
    "    data1_set = np.random.randn(samples, attributes) + np.array([0, -3])  # red ball\n",
    "    data2_set = np.random.randn(samples, attributes) + np.array([3,  3])  # green ball\n",
    "    data3_set = np.random.randn(samples, attributes) + np.array([-3, 3])  # blue ball\n",
    "   \n",
    "    feature_set = np.vstack([data1_set, data2_set, data3_set])   \n",
    "    labels = np.array([0]*samples + [1]*samples + [2]*samples)\n",
    "\n",
    "    # Initializing colors and building a colormap\n",
    "    cmap = mpl.colors.ListedColormap(['red', 'green', 'blue'])\n",
    "\n",
    "    # display data training data set\n",
    "    plt.scatter(feature_set[:,0], feature_set[:,1], c=labels, cmap =cmap, s= 200, alpha=0.5)  \n",
    "    plt.show()\n",
    "\n",
    "    one_hot_labels = np.zeros((samples*classes, classes))\n",
    "    \n",
    "    for i in range(samples*classes):  \n",
    "        one_hot_labels[i, labels[i]] = 1\n",
    "\n",
    "    inputdata = torch.from_numpy(feature_set).float().to(device)\n",
    "    targetvalue = torch.from_numpy(one_hot_labels).to(device)\n",
    "    batchsize = inputdata.shape[0]"
   ]
  },
  {
   "cell_type": "markdown",
   "metadata": {},
   "source": [
    "### Batch Gradient Descent Optimization\n",
    "+ All the input data are processed in batch at both forward and backward propagations.\n",
    "+ In comparison with SGD, batch GD optimizes more smoothly since the weights update are performed in batch."
   ]
  },
  {
   "cell_type": "code",
   "execution_count": 68,
   "metadata": {},
   "outputs": [
    {
     "name": "stdout",
     "output_type": "stream",
     "text": [
      "1.227515459060669\n",
      "1.131532073020935\n",
      "Target: tensor([[1., 0., 0.],\n",
      "        [1., 0., 0.],\n",
      "        [1., 0., 0.],\n",
      "        [1., 0., 0.],\n",
      "        [1., 0., 0.],\n",
      "        [1., 0., 0.],\n",
      "        [1., 0., 0.],\n",
      "        [1., 0., 0.],\n",
      "        [1., 0., 0.],\n",
      "        [1., 0., 0.],\n",
      "        [0., 1., 0.],\n",
      "        [0., 1., 0.],\n",
      "        [0., 1., 0.],\n",
      "        [0., 1., 0.],\n",
      "        [0., 1., 0.],\n",
      "        [0., 1., 0.],\n",
      "        [0., 1., 0.],\n",
      "        [0., 1., 0.],\n",
      "        [0., 1., 0.],\n",
      "        [0., 1., 0.],\n",
      "        [0., 0., 1.],\n",
      "        [0., 0., 1.],\n",
      "        [0., 0., 1.],\n",
      "        [0., 0., 1.],\n",
      "        [0., 0., 1.],\n",
      "        [0., 0., 1.],\n",
      "        [0., 0., 1.],\n",
      "        [0., 0., 1.],\n",
      "        [0., 0., 1.],\n",
      "        [0., 0., 1.]], dtype=torch.float64)\n",
      "Target Value: tensor([[ 0.2193, -0.0254,  0.0839],\n",
      "        [ 0.2116, -0.0433,  0.0879],\n",
      "        [ 0.2023, -0.0418,  0.0869],\n",
      "        [ 0.2314,  0.0267,  0.0892],\n",
      "        [ 0.2244, -0.0199,  0.0784],\n",
      "        [ 0.2183, -0.0287,  0.0842],\n",
      "        [ 0.1844, -0.1702,  0.1192],\n",
      "        [ 0.1845, -0.1419,  0.1112],\n",
      "        [ 0.1967, -0.1016,  0.0986],\n",
      "        [ 0.2248,  0.0147,  0.0908],\n",
      "        [ 0.2473, -0.0092,  0.0309],\n",
      "        [ 0.2394, -0.0761,  0.0416],\n",
      "        [ 0.2133, -0.2102,  0.0811],\n",
      "        [ 0.2405, -0.0788,  0.0422],\n",
      "        [ 0.2763,  0.0881,  0.0155],\n",
      "        [ 0.2449, -0.0396,  0.0316],\n",
      "        [ 0.2298, -0.1335,  0.0602],\n",
      "        [ 0.2439, -0.0765,  0.0419],\n",
      "        [ 0.2407, -0.0709,  0.0398],\n",
      "        [ 0.2460, -0.0326,  0.0299],\n",
      "        [ 0.1494, -0.4035,  0.1210],\n",
      "        [ 0.1487, -0.3905,  0.1537],\n",
      "        [ 0.1475, -0.4002,  0.1391],\n",
      "        [ 0.1459, -0.4005,  0.1459],\n",
      "        [ 0.1633, -0.3383,  0.1392],\n",
      "        [ 0.1441, -0.4241,  0.1021],\n",
      "        [ 0.1498, -0.3875,  0.1530],\n",
      "        [ 0.1514, -0.3928,  0.1307],\n",
      "        [ 0.1613, -0.3421,  0.1463],\n",
      "        [ 0.1498, -0.3979,  0.1302]], grad_fn=<AddmmBackward>)\n",
      "Predicted data based on trained weights: \n",
      "Input:  tensor([[ 1., -1.]])\n",
      "Output:  tensor([[ 0.2325],\n",
      "        [-0.0118],\n",
      "        [ 0.0656]], grad_fn=<PermuteBackward>)\n",
      "it is red ball\n"
     ]
    }
   ],
   "source": [
    "training_loss = []\n",
    "training_accuracy = []\n",
    "\n",
    "for i in range(epoch):\n",
    "    optim.zero_grad()\n",
    "    \n",
    "    out = model(inputdata)\n",
    "    loss = criterion(out, torch.max(targetvalue, 1)[1])\n",
    "    loss.backward()\n",
    "    optim.step()\n",
    "    if i % 500 == 0:\n",
    "        print(loss.item())\n",
    "        training_loss.append(loss.item())\n",
    "        training_accuracy.append(torch.sum(torch.argmax(out, axis=1)==torch.argmax(targetvalue, axis=1))/float(out.shape[0]))\n",
    "    \n",
    "    \n",
    "print(f\"Target: {targetvalue}\\nTarget Value: {out}\")\n",
    "\n",
    "model.eval()\n",
    "x_prediction = torch.from_numpy(np.array([[1.0, -1.0]])).float().to(device)\n",
    "predicted_output = model(x_prediction)\n",
    "print(\"Predicted data based on trained weights: \")\n",
    "print(\"Input: \", x_prediction)\n",
    "print(\"Output: \", predicted_output.T)\n",
    "if torch.argmax(predicted_output) == 0:\n",
    "    print(\"it is red ball\")\n",
    "elif torch.argmax(predicted_output) == 1:\n",
    "    print(\"it is green ball\")\n",
    "elif torch.argmax(predicted_output) == 2:\n",
    "    print(\"it is blue ball\")    "
   ]
  },
  {
   "cell_type": "code",
   "execution_count": 69,
   "metadata": {
    "ExecuteTime": {
     "end_time": "2020-10-05T10:28:41.491593Z",
     "start_time": "2020-10-05T10:28:40.936849Z"
    }
   },
   "outputs": [
    {
     "data": {
      "text/plain": [
       "'    w2 = torch.rand(3, 4, requires_grad=True)     # number of output labels is 3\\n    w1 = torch.rand(4, inputdata.shape[1], requires_grad=True)  # number of nodes at a hidden layer is 4\\n\\n    nn = neuralnetwork(inputdata, w1, w2, targetvalue)\\n\\n    training_loss = []  \\n    training_accuracy = []\\n  \\n    # training \\n    for i in range(epoch):    \\n        nn.forwardprop()\\n        nn.backprop()\\n        if (i % 500) == 0:\\n            print(\"Error: \", nn.calculate_error())\\n            training_loss.append(nn.calculate_error())  # store training loss \\n            training_accuracy.append(nn.calculate_accuracy()) #store training accuracy \\n \\n    print(\"target\")   \\n    print(targetvalue)\\n    print(\"output after training\")   \\n    print(nn.output.T)\\n\\n    # predicting and testing the output for a given input data\\n    # For a given input data [1, -1], it is predicated as red ball since the output is [0, 1, 0], i.e. the red ball.\\n    torch.max(targetvalue, 1)[1]  '"
      ]
     },
     "execution_count": 69,
     "metadata": {},
     "output_type": "execute_result"
    }
   ],
   "source": [
    "'''    w2 = torch.rand(3, 4, requires_grad=True)     # number of output labels is 3\n",
    "    w1 = torch.rand(4, inputdata.shape[1], requires_grad=True)  # number of nodes at a hidden layer is 4\n",
    "\n",
    "    nn = neuralnetwork(inputdata, w1, w2, targetvalue)\n",
    "\n",
    "    training_loss = []  \n",
    "    training_accuracy = []\n",
    "  \n",
    "    # training \n",
    "    for i in range(epoch):    \n",
    "        nn.forwardprop()\n",
    "        nn.backprop()\n",
    "        if (i % 500) == 0:\n",
    "            print(\"Error: \", nn.calculate_error())\n",
    "            training_loss.append(nn.calculate_error())  # store training loss \n",
    "            training_accuracy.append(nn.calculate_accuracy()) #store training accuracy \n",
    " \n",
    "    print(\"target\")   \n",
    "    print(targetvalue)\n",
    "    print(\"output after training\")   \n",
    "    print(nn.output.T)\n",
    "\n",
    "    # predicting and testing the output for a given input data\n",
    "    # For a given input data [1, -1], it is predicated as red ball since the output is [0, 1, 0], i.e. the red ball.\n",
    "    torch.max(targetvalue, 1)[1]  '''"
   ]
  },
  {
   "cell_type": "markdown",
   "metadata": {},
   "source": [
    "### Evaluation: Loss display"
   ]
  },
  {
   "cell_type": "code",
   "execution_count": 70,
   "metadata": {},
   "outputs": [
    {
     "data": {
      "image/png": "[encoded data removed]",
      "text/plain": [
       "<Figure size 432x288 with 1 Axes>"
      ]
     },
     "metadata": {
      "needs_background": "light"
     },
     "output_type": "display_data"
    }
   ],
   "source": [
    "    # Create count of the number of epochs\n",
    "    epoch_count = range(1, len(training_loss) + 1)\n",
    "    # visualize model loss\n",
    "    plt.plot(epoch_count, training_loss, 'b-')\n",
    "    plt.title(\"Model loss\")\n",
    "    plt.legend(['Training Loss'])\n",
    "    plt.xlabel('Epoch(x500)')\n",
    "    plt.ylabel('Loss')\n",
    "    plt.show()"
   ]
  },
  {
   "cell_type": "markdown",
   "metadata": {},
   "source": [
    "### Evaluation: Accuracy display"
   ]
  },
  {
   "cell_type": "code",
   "execution_count": 71,
   "metadata": {},
   "outputs": [
    {
     "data": {
      "image/png": "[encoded data removed]",
      "text/plain": [
       "<Figure size 432x288 with 1 Axes>"
      ]
     },
     "metadata": {
      "needs_background": "light"
     },
     "output_type": "display_data"
    }
   ],
   "source": [
    "    # visualize model accuracy\n",
    "    plt.plot(epoch_count, training_accuracy, 'b-')\n",
    "    plt.title('Model Accuracy')\n",
    "    plt.legend(['Training Accuracy'])\n",
    "    plt.xlabel('Epoch(x1000)')\n",
    "    plt.ylabel('Accuracy')\n",
    "    plt.show()"
   ]
  },
  {
   "cell_type": "code",
   "execution_count": null,
   "metadata": {},
   "outputs": [],
   "source": []
  }
 ],
 "metadata": {
  "kernelspec": {
   "display_name": "Python 3",
   "language": "python",
   "name": "python3"
  },
  "language_info": {
   "codemirror_mode": {
    "name": "ipython",
    "version": 3
   },
   "file_extension": ".py",
   "mimetype": "text/x-python",
   "name": "python",
   "nbconvert_exporter": "python",
   "pygments_lexer": "ipython3",
   "version": "3.8.3"
  },
  "toc": {
   "base_numbering": 1,
   "nav_menu": {},
   "number_sections": true,
   "sideBar": true,
   "skip_h1_title": false,
   "title_cell": "Table of Contents",
   "title_sidebar": "Contents",
   "toc_cell": true,
   "toc_position": {},
   "toc_section_display": true,
   "toc_window_display": false
  },
  "varInspector": {
   "cols": {
    "lenName": 16,
    "lenType": 16,
    "lenVar": 40
   },
   "kernels_config": {
    "python": {
     "delete_cmd_postfix": "",
     "delete_cmd_prefix": "del ",
     "library": "var_list.py",
     "varRefreshCmd": "print(var_dic_list())"
    },
    "r": {
     "delete_cmd_postfix": ") ",
     "delete_cmd_prefix": "rm(",
     "library": "var_list.r",
     "varRefreshCmd": "cat(var_dic_list()) "
    }
   },
   "types_to_exclude": [
    "module",
    "function",
    "builtin_function_or_method",
    "instance",
    "_Feature"
   ],
   "window_display": false
  }
 },
 "nbformat": 4,
 "nbformat_minor": 2
}
